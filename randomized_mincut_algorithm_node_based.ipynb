{
 "cells": [
  {
   "cell_type": "markdown",
   "id": "a34ec729",
   "metadata": {},
   "source": [
    "# Randomized Min-Cut algorithm"
   ]
  },
  {
   "cell_type": "markdown",
   "id": "419c3291",
   "metadata": {},
   "source": [
    "## Node based contraction"
   ]
  },
  {
   "cell_type": "markdown",
   "id": "88a27c4c",
   "metadata": {},
   "source": [
    "### 1. Data Loading"
   ]
  },
  {
   "cell_type": "code",
   "execution_count": 1,
   "id": "4f82e57d",
   "metadata": {},
   "outputs": [
    {
     "name": "stdout",
     "output_type": "stream",
     "text": [
      "\n",
      "  There is a binary version available but the source version is later:\n",
      "       binary source needs_compilation\n",
      "igraph  1.2.6 1.2.10              TRUE\n",
      "\n",
      "  Binaries will be installed\n",
      "package 'igraph' successfully unpacked and MD5 sums checked\n",
      "\n",
      "The downloaded binary packages are in\n",
      "\tC:\\Users\\key10\\AppData\\Local\\Temp\\RtmpULAhbq\\downloaded_packages\n"
     ]
    },
    {
     "name": "stderr",
     "output_type": "stream",
     "text": [
      "Warning message:\n",
      "\"package 'igraph' was built under R version 3.6.3\"\n",
      "Attaching package: 'igraph'\n",
      "\n",
      "The following objects are masked from 'package:stats':\n",
      "\n",
      "    decompose, spectrum\n",
      "\n",
      "The following object is masked from 'package:base':\n",
      "\n",
      "    union\n",
      "\n"
     ]
    }
   ],
   "source": [
    "install.packages(\"igraph\")\n",
    "library(igraph)\n",
    "\n",
    "df<-read.table(\"karate_matrix.txt\",stringsAsFactors=FALSE)"
   ]
  },
  {
   "cell_type": "code",
   "execution_count": 2,
   "id": "4c20aa70",
   "metadata": {},
   "outputs": [
    {
     "data": {
      "text/html": [
       "<table>\n",
       "<thead><tr><th scope=col>V1</th><th scope=col>V2</th></tr></thead>\n",
       "<tbody>\n",
       "\t<tr><td>(2,1)</td><td>1    </td></tr>\n",
       "\t<tr><td>(3,1)</td><td>1    </td></tr>\n",
       "\t<tr><td>(4,1)</td><td>1    </td></tr>\n",
       "</tbody>\n",
       "</table>\n"
      ],
      "text/latex": [
       "\\begin{tabular}{r|ll}\n",
       " V1 & V2\\\\\n",
       "\\hline\n",
       "\t (2,1) & 1    \\\\\n",
       "\t (3,1) & 1    \\\\\n",
       "\t (4,1) & 1    \\\\\n",
       "\\end{tabular}\n"
      ],
      "text/markdown": [
       "\n",
       "| V1 | V2 |\n",
       "|---|---|\n",
       "| (2,1) | 1     |\n",
       "| (3,1) | 1     |\n",
       "| (4,1) | 1     |\n",
       "\n"
      ],
      "text/plain": [
       "  V1    V2\n",
       "1 (2,1) 1 \n",
       "2 (3,1) 1 \n",
       "3 (4,1) 1 "
      ]
     },
     "metadata": {},
     "output_type": "display_data"
    }
   ],
   "source": [
    "head(df,3) "
   ]
  },
  {
   "cell_type": "code",
   "execution_count": 3,
   "id": "2ff83bd8",
   "metadata": {},
   "outputs": [
    {
     "data": {
      "text/html": [
       "<table>\n",
       "<thead><tr><th scope=col>a1</th><th scope=col>a2</th></tr></thead>\n",
       "<tbody>\n",
       "\t<tr><td>2</td><td>1</td></tr>\n",
       "\t<tr><td>3</td><td>1</td></tr>\n",
       "\t<tr><td>4</td><td>1</td></tr>\n",
       "</tbody>\n",
       "</table>\n"
      ],
      "text/latex": [
       "\\begin{tabular}{r|ll}\n",
       " a1 & a2\\\\\n",
       "\\hline\n",
       "\t 2 & 1\\\\\n",
       "\t 3 & 1\\\\\n",
       "\t 4 & 1\\\\\n",
       "\\end{tabular}\n"
      ],
      "text/markdown": [
       "\n",
       "| a1 | a2 |\n",
       "|---|---|\n",
       "| 2 | 1 |\n",
       "| 3 | 1 |\n",
       "| 4 | 1 |\n",
       "\n"
      ],
      "text/plain": [
       "  a1 a2\n",
       "1 2  1 \n",
       "2 3  1 \n",
       "3 4  1 "
      ]
     },
     "metadata": {},
     "output_type": "display_data"
    }
   ],
   "source": [
    "a1<-substr(df$V1,2,3)\n",
    "a2<-substr(df$V1,4,6)\n",
    "df2<-data.frame(a1,a2)\n",
    "\n",
    "for(i in 1:2){\n",
    "  df2[,i]<-sapply(df2[,i],function(x)gsub(\",\",\"\",x))\n",
    "  df2[,i]<-sapply(df2[,i],function(x)gsub(\")\",\"\",x))\n",
    "  df2[,i]<-as.numeric(df2[,i])                \n",
    "}\n",
    "head(df2,3) #complete Edge List of Graph"
   ]
  },
  {
   "cell_type": "code",
   "execution_count": 4,
   "id": "33a38eb0",
   "metadata": {},
   "outputs": [
    {
     "data": {
      "text/html": [
       "<table>\n",
       "<tbody>\n",
       "\t<tr><td>0  </td><td>1  </td><td>1  </td><td>1  </td><td>1  </td><td>1  </td><td>1  </td><td>1  </td><td>1  </td><td>0  </td><td>...</td><td>0  </td><td>0  </td><td>0  </td><td>0  </td><td>0  </td><td>0  </td><td>0  </td><td>1  </td><td>0  </td><td>0  </td></tr>\n",
       "\t<tr><td>1  </td><td>0  </td><td>1  </td><td>1  </td><td>0  </td><td>0  </td><td>0  </td><td>1  </td><td>0  </td><td>0  </td><td>...</td><td>0  </td><td>0  </td><td>0  </td><td>0  </td><td>0  </td><td>0  </td><td>1  </td><td>0  </td><td>0  </td><td>0  </td></tr>\n",
       "\t<tr><td>1  </td><td>1  </td><td>0  </td><td>1  </td><td>0  </td><td>0  </td><td>0  </td><td>1  </td><td>1  </td><td>1  </td><td>...</td><td>0  </td><td>0  </td><td>0  </td><td>1  </td><td>1  </td><td>0  </td><td>0  </td><td>0  </td><td>1  </td><td>0  </td></tr>\n",
       "</tbody>\n",
       "</table>\n"
      ],
      "text/latex": [
       "\\begin{tabular}{llllllllllllllllllllllllllllllllll}\n",
       "\t 0   & 1   & 1   & 1   & 1   & 1   & 1   & 1   & 1   & 0   & ... & 0   & 0   & 0   & 0   & 0   & 0   & 0   & 1   & 0   & 0  \\\\\n",
       "\t 1   & 0   & 1   & 1   & 0   & 0   & 0   & 1   & 0   & 0   & ... & 0   & 0   & 0   & 0   & 0   & 0   & 1   & 0   & 0   & 0  \\\\\n",
       "\t 1   & 1   & 0   & 1   & 0   & 0   & 0   & 1   & 1   & 1   & ... & 0   & 0   & 0   & 1   & 1   & 0   & 0   & 0   & 1   & 0  \\\\\n",
       "\\end{tabular}\n"
      ],
      "text/markdown": [
       "\n",
       "| 0   | 1   | 1   | 1   | 1   | 1   | 1   | 1   | 1   | 0   | ... | 0   | 0   | 0   | 0   | 0   | 0   | 0   | 1   | 0   | 0   |\n",
       "| 1   | 0   | 1   | 1   | 0   | 0   | 0   | 1   | 0   | 0   | ... | 0   | 0   | 0   | 0   | 0   | 0   | 1   | 0   | 0   | 0   |\n",
       "| 1   | 1   | 0   | 1   | 0   | 0   | 0   | 1   | 1   | 1   | ... | 0   | 0   | 0   | 1   | 1   | 0   | 0   | 0   | 1   | 0   |\n",
       "\n"
      ],
      "text/plain": [
       "     [,1] [,2] [,3] [,4] [,5] [,6] [,7] [,8] [,9] [,10] [,11] [,12] [,13] [,14]\n",
       "[1,] 0    1    1    1    1    1    1    1    1    0     ...   0     0     0    \n",
       "[2,] 1    0    1    1    0    0    0    1    0    0     ...   0     0     0    \n",
       "[3,] 1    1    0    1    0    0    0    1    1    1     ...   0     0     0    \n",
       "     [,15] [,16] [,17] [,18] [,19] [,20] [,21]\n",
       "[1,] 0     0     0     0     1     0     0    \n",
       "[2,] 0     0     0     1     0     0     0    \n",
       "[3,] 1     1     0     0     0     1     0    "
      ]
     },
     "metadata": {},
     "output_type": "display_data"
    }
   ],
   "source": [
    "mat<-matrix(rep(0,34*34),34)\n",
    "\n",
    "len<-length(df2$a1)\n",
    "for(i in 1:len){\n",
    "  j<-df2[i,1]\n",
    "  k<-df2[i,2]\n",
    "  mat[j,k]<-1\n",
    "} \n",
    "head(mat,3) #complete adjacency matrix of Graph"
   ]
  },
  {
   "cell_type": "code",
   "execution_count": 5,
   "id": "5ebe282d",
   "metadata": {},
   "outputs": [
    {
     "data": {
      "text/plain": [
       "IGRAPH 19b73e1 U--- 34 78 -- \n",
       "+ edges from 19b73e1:\n",
       " [1]  1-- 2  1-- 3  1-- 4  1-- 5  1-- 6  1-- 7  1-- 8  1-- 9  1--11  1--12\n",
       "[11]  1--13  1--14  1--18  1--20  1--22  1--32  2-- 3  2-- 4  2-- 8  2--14\n",
       "[21]  2--18  2--20  2--22  2--31  3-- 4  3-- 8  3-- 9  3--10  3--14  3--28\n",
       "[31]  3--29  3--33  4-- 8  4--13  4--14  5-- 7  5--11  6-- 7  6--11  6--17\n",
       "[41]  7--17  9--31  9--33  9--34 10--34 14--34 15--33 15--34 16--33 16--34\n",
       "[51] 19--33 19--34 20--34 21--33 21--34 23--33 23--34 24--26 24--28 24--30\n",
       "[61] 24--33 24--34 25--26 25--28 25--32 26--32 27--30 27--34 28--34 29--32\n",
       "[71] 29--34 30--33 30--34 31--33 31--34 32--33 32--34 33--34"
      ]
     },
     "metadata": {},
     "output_type": "display_data"
    }
   ],
   "source": [
    "karate_g<-graph_from_adjacency_matrix(mat,mode=\"undirected\") \n",
    "karate_g #make graph object"
   ]
  },
  {
   "cell_type": "code",
   "execution_count": 6,
   "id": "30c3573a",
   "metadata": {},
   "outputs": [
    {
     "data": {
      "image/png": "[encoded data removed]",
      "text/plain": [
       "Plot with title \"\""
      ]
     },
     "metadata": {},
     "output_type": "display_data"
    }
   ],
   "source": [
    "plot(karate_g)"
   ]
  },
  {
   "cell_type": "markdown",
   "id": "11489cbe",
   "metadata": {},
   "source": [
    "### 2. Kargers Algorithm"
   ]
  },
  {
   "cell_type": "code",
   "execution_count": 7,
   "id": "c99d14c7",
   "metadata": {},
   "outputs": [],
   "source": [
    "matrix_mincut<-function(mat){\n",
    "  top = dim(mat)[1]\n",
    "  inds = 1:top\n",
    "  while(length(inds)>2){\n",
    "    pick = sample(inds,1)\n",
    "    pick2 = sample(inds,1)\n",
    "    \n",
    "    while(pick==pick2){\n",
    "      pick2 = sample(inds,1)\n",
    "    }  ### select arbitrary two nodes (node based contraction) !!\n",
    "    \n",
    "    mat[,pick] = mat[,pick] + mat[,pick2]\n",
    "    mat[pick,] = mat[pick,] + mat[pick2,]\n",
    "    mat[pick,pick] = 0\n",
    "    mat[pick2,]=0\n",
    "    mat[,pick2]=0\n",
    "    inds = inds[inds!=pick2]\n",
    "  }\n",
    "  return(max(mat))\n",
    "}\n",
    "\n",
    "kargers_mincut<-function(graph,mat_in,ep=1){\n",
    "  n = length(V(graph))\n",
    "  howmany = 1 #original\n",
    "  #howmany = n^2*log(n)*ep #boosting\n",
    "  mincut = Inf\n",
    "  \n",
    "  for(i in 1:howmany){\n",
    "    mat = mat_in\n",
    "    contender = matrix_mincut(mat)\n",
    "    if(contender<mincut){\n",
    "      mincut = contender\n",
    "    }\n",
    "  }\n",
    "  return(mincut)\n",
    "}"
   ]
  },
  {
   "cell_type": "markdown",
   "id": "44421386",
   "metadata": {},
   "source": [
    "### 3. Karger Stein Algorithm"
   ]
  },
  {
   "cell_type": "code",
   "execution_count": 11,
   "id": "b7a2096b",
   "metadata": {},
   "outputs": [],
   "source": [
    "kargers_mincut_mat<-function(mat_in,n){\n",
    "  # howmany = n^2*log(n)*100 #Don't want to have incorrect mincut when the number of vertices is small.\n",
    "  howmany = 1 #just try once.\n",
    "    mincut = Inf\n",
    "  \n",
    "  for(i in 1:howmany){\n",
    "    mat = mat_in\n",
    "    contender = matrix_mincut(mat)\n",
    "    if(contender<mincut & contender !=0){\n",
    "      mincut = contender\n",
    "    }\n",
    "  }\n",
    "  return(mincut)\n",
    "  \n",
    "}\n",
    "\n",
    "\n",
    "squish <- function(mat,inds,t){\n",
    "  while(length(inds)>t){\n",
    "    pick = sample(inds,1)\n",
    "    pick2 = sample(inds,1)\n",
    "    while(pick==pick2){\n",
    "      pick2 = sample(inds,1)\n",
    "    } ### select arbitrary two nodes (node based contraction) !!\n",
    "    mat[,pick] = mat[,pick]+mat[,pick2]\n",
    "    mat[pick,] = mat[pick,]+mat[pick2,]\n",
    "    mat[pick,pick] = 0\n",
    "    mat[pick2,] = 0\n",
    "    mat[,pick2] = 0\n",
    "    inds = inds[inds!=pick2]\n",
    "  }\n",
    "  p = list(mat,inds)\n",
    "  return(p)\n",
    "}\n",
    "\n",
    "karger_stein_mincut<-function(matrix,inds){\n",
    "  big = length(inds)\n",
    "  if(big<=6){ #spare constraint not to fall in infinite loop.\n",
    "    mincut = kargers_mincut_mat(matrix,2*big)\n",
    "    return(mincut)\n",
    "  }else{\n",
    "    t = 1+big/sqrt(2)\n",
    "    in1 = matrix\n",
    "    in2 = matrix\n",
    "    p1 = squish(in1,inds,t)\n",
    "    p2 = squish(in2,inds,t)\n",
    "    \n",
    "    mat1 = p1[[1]]\n",
    "    ind1 = p1[[2]]\n",
    "    mat2 = p2[[1]]\n",
    "    ind2 = p2[[2]]\n",
    "    \n",
    "    return(min(karger_stein_mincut(mat1,ind1),karger_stein_mincut(mat2,ind2)))\n",
    "  }\n",
    "}\n",
    "\n",
    "ks_mincut<-function(graph,graph_mat){\n",
    "  n = length(V(graph))\n",
    "  top = 1 #original\n",
    "  #top = (log(n))^2 #boosting\n",
    "  mincut = Inf\n",
    "  for(i in 1:top){\n",
    "    inds = 1:n\n",
    "    graph_mat2 = graph_mat\n",
    "    maybe = karger_stein_mincut(graph_mat2, inds)\n",
    "    if(maybe<mincut){\n",
    "      mincut = maybe\n",
    "    }\n",
    "  }\n",
    "  return(mincut)\n",
    "}"
   ]
  },
  {
   "cell_type": "markdown",
   "id": "7619ae8e",
   "metadata": {},
   "source": [
    "### 4. Comparison"
   ]
  },
  {
   "cell_type": "code",
   "execution_count": 14,
   "id": "8b533c9c",
   "metadata": {},
   "outputs": [
    {
     "data": {
      "text/html": [
       "21"
      ],
      "text/latex": [
       "21"
      ],
      "text/markdown": [
       "21"
      ],
      "text/plain": [
       "[1] 21"
      ]
     },
     "metadata": {},
     "output_type": "display_data"
    },
    {
     "name": "stdout",
     "output_type": "stream",
     "text": [
      "Time difference of 0.01978016 secs\n"
     ]
    }
   ],
   "source": [
    "start=Sys.time()\n",
    "kargers_mincut(karate_g,mat) #kargers algorithm\n",
    "print(Sys.time()-start)"
   ]
  },
  {
   "cell_type": "code",
   "execution_count": 31,
   "id": "74fe4d18",
   "metadata": {},
   "outputs": [
    {
     "data": {
      "text/html": [
       "2"
      ],
      "text/latex": [
       "2"
      ],
      "text/markdown": [
       "2"
      ],
      "text/plain": [
       "[1] 2"
      ]
     },
     "metadata": {},
     "output_type": "display_data"
    },
    {
     "name": "stdout",
     "output_type": "stream",
     "text": [
      "Time difference of 0.042871 secs\n"
     ]
    }
   ],
   "source": [
    "start=Sys.time()\n",
    "ks_mincut(karate_g,mat) #karger stein algorithm\n",
    "print(Sys.time()-start)"
   ]
  },
  {
   "cell_type": "markdown",
   "id": "5472f779",
   "metadata": {},
   "source": [
    "### 5. Boosting to make the probability of success more than 1-1/n (=0.97)."
   ]
  },
  {
   "cell_type": "code",
   "execution_count": 35,
   "id": "8e9768ad",
   "metadata": {},
   "outputs": [
    {
     "data": {
      "text/html": [
       "1"
      ],
      "text/latex": [
       "1"
      ],
      "text/markdown": [
       "1"
      ],
      "text/plain": [
       "[1] 1"
      ]
     },
     "metadata": {},
     "output_type": "display_data"
    },
    {
     "name": "stdout",
     "output_type": "stream",
     "text": [
      "Time difference of 2.636001 secs\n"
     ]
    }
   ],
   "source": [
    "matrix_mincut<-function(mat){\n",
    "  top = dim(mat)[1]\n",
    "  inds = 1:top\n",
    "  while(length(inds)>2){\n",
    "    pick = sample(inds,1)\n",
    "    pick2 = sample(inds,1)\n",
    "    \n",
    "    while(pick==pick2){\n",
    "      pick2 = sample(inds,1)\n",
    "    }\n",
    "    \n",
    "    mat[,pick] = mat[,pick] + mat[,pick2]\n",
    "    mat[pick,] = mat[pick,] + mat[pick2,]\n",
    "    mat[pick,pick] = 0\n",
    "    mat[pick2,]=0\n",
    "    mat[,pick2]=0\n",
    "    inds = inds[inds!=pick2]\n",
    "  }\n",
    "  return(max(mat))\n",
    "}\n",
    "\n",
    "kargers_mincut<-function(graph,mat_in,ep=1){\n",
    "  n = length(V(graph))\n",
    "  #howmany = 1 #original\n",
    "  howmany = n^2*log(n)*ep #boosting\n",
    "  mincut = Inf\n",
    "  \n",
    "  for(i in 1:howmany){\n",
    "    mat = mat_in\n",
    "    contender = matrix_mincut(mat)\n",
    "    if(contender<mincut){\n",
    "      mincut = contender\n",
    "    }\n",
    "  }\n",
    "  return(mincut)\n",
    "}\n",
    "\n",
    "start=Sys.time()\n",
    "kargers_mincut(karate_g,mat) #kargers method(boosting) \n",
    "print(Sys.time()-start)"
   ]
  },
  {
   "cell_type": "code",
   "execution_count": 36,
   "id": "bf931837",
   "metadata": {},
   "outputs": [
    {
     "data": {
      "text/html": [
       "1"
      ],
      "text/latex": [
       "1"
      ],
      "text/markdown": [
       "1"
      ],
      "text/plain": [
       "[1] 1"
      ]
     },
     "metadata": {},
     "output_type": "display_data"
    },
    {
     "name": "stdout",
     "output_type": "stream",
     "text": [
      "Time difference of 0.657701 secs\n"
     ]
    }
   ],
   "source": [
    "kargers_mincut_mat<-function(mat_in,n){\n",
    "  # howmany = n^2*log(n)*100 #Don't want to have incorrect mincut when the number of vertices is small.\n",
    "  howmany = 1 #just try once.\n",
    "    mincut = Inf\n",
    "  \n",
    "  for(i in 1:howmany){\n",
    "    mat = mat_in\n",
    "    contender = matrix_mincut(mat)\n",
    "    if(contender<mincut & contender !=0){\n",
    "      mincut = contender\n",
    "    }\n",
    "  }\n",
    "  return(mincut)\n",
    "  \n",
    "}\n",
    "\n",
    "\n",
    "squish <- function(mat,inds,t){\n",
    "  while(length(inds)>t){\n",
    "    pick = sample(inds,1)\n",
    "    pick2 = sample(inds,1)\n",
    "    while(pick==pick2){\n",
    "      pick2 = sample(inds,1)\n",
    "    }\n",
    "    mat[,pick] = mat[,pick]+mat[,pick2]\n",
    "    mat[pick,] = mat[pick,]+mat[pick2,]\n",
    "    mat[pick,pick] = 0\n",
    "    mat[pick2,] = 0\n",
    "    mat[,pick2] = 0\n",
    "    inds = inds[inds!=pick2]\n",
    "  }\n",
    "  p = list(mat,inds)\n",
    "  return(p)\n",
    "}\n",
    "\n",
    "karger_stein_mincut<-function(matrix,inds){\n",
    "  big = length(inds)\n",
    "  if(big<=6){ #spare constraint\n",
    "    mincut = kargers_mincut_mat(matrix,2*big)\n",
    "    return(mincut)\n",
    "  }else{\n",
    "    t = 1+big/sqrt(2)\n",
    "    in1 = matrix\n",
    "    in2 = matrix\n",
    "    p1 = squish(in1,inds,t)\n",
    "    p2 = squish(in2,inds,t)\n",
    "    \n",
    "    mat1 = p1[[1]]\n",
    "    ind1 = p1[[2]]\n",
    "    mat2 = p2[[1]]\n",
    "    ind2 = p2[[2]]\n",
    "    \n",
    "    return(min(karger_stein_mincut(mat1,ind1),karger_stein_mincut(mat2,ind2)))\n",
    "  }\n",
    "}\n",
    "\n",
    "ks_mincut<-function(graph,graph_mat){\n",
    "  n = length(V(graph))\n",
    "  #top = 1 #original\n",
    "  top = (log(n))^2 #boosting\n",
    "  mincut = Inf\n",
    "  for(i in 1:top){\n",
    "    inds = 1:n\n",
    "    graph_mat2 = graph_mat\n",
    "    maybe = karger_stein_mincut(graph_mat2, inds)\n",
    "    if(maybe<mincut){\n",
    "      mincut = maybe\n",
    "    }\n",
    "  }\n",
    "  return(mincut)\n",
    "}\n",
    "\n",
    "start=Sys.time()\n",
    "ks_mincut(karate_g,mat) #karger stein method(boosting) \n",
    "print(Sys.time()-start)"
   ]
  }
 ],
 "metadata": {
  "kernelspec": {
   "display_name": "R",
   "language": "R",
   "name": "ir"
  },
  "language_info": {
   "codemirror_mode": "r",
   "file_extension": ".r",
   "mimetype": "text/x-r-source",
   "name": "R",
   "pygments_lexer": "r",
   "version": "3.6.1"
  }
 },
 "nbformat": 4,
 "nbformat_minor": 5
}
