{
 "cells": [
  {
   "cell_type": "markdown",
   "id": "37e0a0ac",
   "metadata": {},
   "source": [
    "# Randomized Min-Cut algorithm"
   ]
  },
  {
   "cell_type": "markdown",
   "id": "187a799f",
   "metadata": {},
   "source": [
    "## Edge based contraction"
   ]
  },
  {
   "cell_type": "markdown",
   "id": "37f5f1d8",
   "metadata": {},
   "source": [
    "### 1. Data Loading"
   ]
  },
  {
   "cell_type": "code",
   "execution_count": 1,
   "id": "d5309575",
   "metadata": {},
   "outputs": [
    {
     "name": "stdout",
     "output_type": "stream",
     "text": [
      "\n",
      "  There is a binary version available but the source version is later:\n",
      "       binary source needs_compilation\n",
      "igraph  1.2.6 1.2.10              TRUE\n",
      "\n",
      "  Binaries will be installed\n",
      "package 'igraph' successfully unpacked and MD5 sums checked\n",
      "\n",
      "The downloaded binary packages are in\n",
      "\tC:\\Users\\key10\\AppData\\Local\\Temp\\RtmpUNAzZr\\downloaded_packages\n"
     ]
    },
    {
     "name": "stderr",
     "output_type": "stream",
     "text": [
      "Warning message:\n",
      "\"package 'igraph' was built under R version 3.6.3\"\n",
      "Attaching package: 'igraph'\n",
      "\n",
      "The following objects are masked from 'package:stats':\n",
      "\n",
      "    decompose, spectrum\n",
      "\n",
      "The following object is masked from 'package:base':\n",
      "\n",
      "    union\n",
      "\n"
     ]
    }
   ],
   "source": [
    "install.packages(\"igraph\")\n",
    "library(igraph)\n",
    "\n",
    "df<-read.table(\"karate_matrix.txt\",stringsAsFactors=FALSE)"
   ]
  },
  {
   "cell_type": "code",
   "execution_count": 2,
   "id": "5ec8ea52",
   "metadata": {},
   "outputs": [
    {
     "data": {
      "text/html": [
       "<table>\n",
       "<thead><tr><th scope=col>V1</th><th scope=col>V2</th></tr></thead>\n",
       "<tbody>\n",
       "\t<tr><td>(2,1)</td><td>1    </td></tr>\n",
       "\t<tr><td>(3,1)</td><td>1    </td></tr>\n",
       "\t<tr><td>(4,1)</td><td>1    </td></tr>\n",
       "</tbody>\n",
       "</table>\n"
      ],
      "text/latex": [
       "\\begin{tabular}{r|ll}\n",
       " V1 & V2\\\\\n",
       "\\hline\n",
       "\t (2,1) & 1    \\\\\n",
       "\t (3,1) & 1    \\\\\n",
       "\t (4,1) & 1    \\\\\n",
       "\\end{tabular}\n"
      ],
      "text/markdown": [
       "\n",
       "| V1 | V2 |\n",
       "|---|---|\n",
       "| (2,1) | 1     |\n",
       "| (3,1) | 1     |\n",
       "| (4,1) | 1     |\n",
       "\n"
      ],
      "text/plain": [
       "  V1    V2\n",
       "1 (2,1) 1 \n",
       "2 (3,1) 1 \n",
       "3 (4,1) 1 "
      ]
     },
     "metadata": {},
     "output_type": "display_data"
    }
   ],
   "source": [
    "head(df,3) "
   ]
  },
  {
   "cell_type": "code",
   "execution_count": 3,
   "id": "57149d5c",
   "metadata": {},
   "outputs": [
    {
     "data": {
      "text/html": [
       "<table>\n",
       "<thead><tr><th scope=col>a1</th><th scope=col>a2</th></tr></thead>\n",
       "<tbody>\n",
       "\t<tr><td>2</td><td>1</td></tr>\n",
       "\t<tr><td>3</td><td>1</td></tr>\n",
       "\t<tr><td>4</td><td>1</td></tr>\n",
       "</tbody>\n",
       "</table>\n"
      ],
      "text/latex": [
       "\\begin{tabular}{r|ll}\n",
       " a1 & a2\\\\\n",
       "\\hline\n",
       "\t 2 & 1\\\\\n",
       "\t 3 & 1\\\\\n",
       "\t 4 & 1\\\\\n",
       "\\end{tabular}\n"
      ],
      "text/markdown": [
       "\n",
       "| a1 | a2 |\n",
       "|---|---|\n",
       "| 2 | 1 |\n",
       "| 3 | 1 |\n",
       "| 4 | 1 |\n",
       "\n"
      ],
      "text/plain": [
       "  a1 a2\n",
       "1 2  1 \n",
       "2 3  1 \n",
       "3 4  1 "
      ]
     },
     "metadata": {},
     "output_type": "display_data"
    }
   ],
   "source": [
    "a1<-substr(df$V1,2,3)\n",
    "a2<-substr(df$V1,4,6)\n",
    "df2<-data.frame(a1,a2)\n",
    "\n",
    "for(i in 1:2){\n",
    "  df2[,i]<-sapply(df2[,i],function(x)gsub(\",\",\"\",x))\n",
    "  df2[,i]<-sapply(df2[,i],function(x)gsub(\")\",\"\",x))\n",
    "  df2[,i]<-as.numeric(df2[,i])                \n",
    "}\n",
    "head(df2,3) #complete Edge List of Graph"
   ]
  },
  {
   "cell_type": "code",
   "execution_count": 4,
   "id": "034b39f8",
   "metadata": {},
   "outputs": [
    {
     "data": {
      "text/html": [
       "<table>\n",
       "<tbody>\n",
       "\t<tr><td>0  </td><td>1  </td><td>1  </td><td>1  </td><td>1  </td><td>1  </td><td>1  </td><td>1  </td><td>1  </td><td>0  </td><td>...</td><td>0  </td><td>0  </td><td>0  </td><td>0  </td><td>0  </td><td>0  </td><td>0  </td><td>1  </td><td>0  </td><td>0  </td></tr>\n",
       "\t<tr><td>1  </td><td>0  </td><td>1  </td><td>1  </td><td>0  </td><td>0  </td><td>0  </td><td>1  </td><td>0  </td><td>0  </td><td>...</td><td>0  </td><td>0  </td><td>0  </td><td>0  </td><td>0  </td><td>0  </td><td>1  </td><td>0  </td><td>0  </td><td>0  </td></tr>\n",
       "\t<tr><td>1  </td><td>1  </td><td>0  </td><td>1  </td><td>0  </td><td>0  </td><td>0  </td><td>1  </td><td>1  </td><td>1  </td><td>...</td><td>0  </td><td>0  </td><td>0  </td><td>1  </td><td>1  </td><td>0  </td><td>0  </td><td>0  </td><td>1  </td><td>0  </td></tr>\n",
       "</tbody>\n",
       "</table>\n"
      ],
      "text/latex": [
       "\\begin{tabular}{llllllllllllllllllllllllllllllllll}\n",
       "\t 0   & 1   & 1   & 1   & 1   & 1   & 1   & 1   & 1   & 0   & ... & 0   & 0   & 0   & 0   & 0   & 0   & 0   & 1   & 0   & 0  \\\\\n",
       "\t 1   & 0   & 1   & 1   & 0   & 0   & 0   & 1   & 0   & 0   & ... & 0   & 0   & 0   & 0   & 0   & 0   & 1   & 0   & 0   & 0  \\\\\n",
       "\t 1   & 1   & 0   & 1   & 0   & 0   & 0   & 1   & 1   & 1   & ... & 0   & 0   & 0   & 1   & 1   & 0   & 0   & 0   & 1   & 0  \\\\\n",
       "\\end{tabular}\n"
      ],
      "text/markdown": [
       "\n",
       "| 0   | 1   | 1   | 1   | 1   | 1   | 1   | 1   | 1   | 0   | ... | 0   | 0   | 0   | 0   | 0   | 0   | 0   | 1   | 0   | 0   |\n",
       "| 1   | 0   | 1   | 1   | 0   | 0   | 0   | 1   | 0   | 0   | ... | 0   | 0   | 0   | 0   | 0   | 0   | 1   | 0   | 0   | 0   |\n",
       "| 1   | 1   | 0   | 1   | 0   | 0   | 0   | 1   | 1   | 1   | ... | 0   | 0   | 0   | 1   | 1   | 0   | 0   | 0   | 1   | 0   |\n",
       "\n"
      ],
      "text/plain": [
       "     [,1] [,2] [,3] [,4] [,5] [,6] [,7] [,8] [,9] [,10] [,11] [,12] [,13] [,14]\n",
       "[1,] 0    1    1    1    1    1    1    1    1    0     ...   0     0     0    \n",
       "[2,] 1    0    1    1    0    0    0    1    0    0     ...   0     0     0    \n",
       "[3,] 1    1    0    1    0    0    0    1    1    1     ...   0     0     0    \n",
       "     [,15] [,16] [,17] [,18] [,19] [,20] [,21]\n",
       "[1,] 0     0     0     0     1     0     0    \n",
       "[2,] 0     0     0     1     0     0     0    \n",
       "[3,] 1     1     0     0     0     1     0    "
      ]
     },
     "metadata": {},
     "output_type": "display_data"
    }
   ],
   "source": [
    "mat<-matrix(rep(0,34*34),34)\n",
    "\n",
    "len<-length(df2$a1)\n",
    "for(i in 1:len){\n",
    "  j<-df2[i,1]\n",
    "  k<-df2[i,2]\n",
    "  mat[j,k]<-1\n",
    "} \n",
    "head(mat,3) #complete adjacency matrix of Graph"
   ]
  },
  {
   "cell_type": "code",
   "execution_count": 5,
   "id": "70feeaef",
   "metadata": {},
   "outputs": [
    {
     "data": {
      "text/plain": [
       "IGRAPH 00c042a U--- 34 78 -- \n",
       "+ edges from 00c042a:\n",
       " [1]  1-- 2  1-- 3  1-- 4  1-- 5  1-- 6  1-- 7  1-- 8  1-- 9  1--11  1--12\n",
       "[11]  1--13  1--14  1--18  1--20  1--22  1--32  2-- 3  2-- 4  2-- 8  2--14\n",
       "[21]  2--18  2--20  2--22  2--31  3-- 4  3-- 8  3-- 9  3--10  3--14  3--28\n",
       "[31]  3--29  3--33  4-- 8  4--13  4--14  5-- 7  5--11  6-- 7  6--11  6--17\n",
       "[41]  7--17  9--31  9--33  9--34 10--34 14--34 15--33 15--34 16--33 16--34\n",
       "[51] 19--33 19--34 20--34 21--33 21--34 23--33 23--34 24--26 24--28 24--30\n",
       "[61] 24--33 24--34 25--26 25--28 25--32 26--32 27--30 27--34 28--34 29--32\n",
       "[71] 29--34 30--33 30--34 31--33 31--34 32--33 32--34 33--34"
      ]
     },
     "metadata": {},
     "output_type": "display_data"
    }
   ],
   "source": [
    "karate_g<-graph_from_adjacency_matrix(mat,mode=\"undirected\") \n",
    "karate_g #make graph object"
   ]
  },
  {
   "cell_type": "code",
   "execution_count": 6,
   "id": "68d6e034",
   "metadata": {},
   "outputs": [
    {
     "data": {
      "image/png": "[encoded data removed]",
      "text/plain": [
       "Plot with title \"\""
      ]
     },
     "metadata": {},
     "output_type": "display_data"
    }
   ],
   "source": [
    "plot(karate_g)"
   ]
  },
  {
   "cell_type": "markdown",
   "id": "dee80d0e",
   "metadata": {},
   "source": [
    "### 2. Kargers Algorithm"
   ]
  },
  {
   "cell_type": "code",
   "execution_count": 8,
   "id": "a586e7b9",
   "metadata": {},
   "outputs": [],
   "source": [
    "edgelist_mincut<-function(elist,nv){\n",
    "  edgelist = elist\n",
    "  top = nv #number of vertices\n",
    "  inds = 1:top \n",
    "  top2 = dim(edgelist)[1] #number of edges\n",
    "  inds2 = 1:top2\n",
    "  \n",
    "  \n",
    "  while(top>2){\n",
    "    temp_inds2 = sample(inds2,1) #select an edge randomly\n",
    "    pick = edgelist[temp_inds2,1]\n",
    "    pick2 = edgelist[temp_inds2,2]\n",
    "    \n",
    "    for(j in 1:top2){ #implement contraction\n",
    "      if(edgelist[j,1]==pick2){\n",
    "        edgelist[j,1]<-pick\n",
    "      }else if(edgelist[j,2]==pick2){\n",
    "        edgelist[j,2]<-pick\n",
    "      }else{\n",
    "        next\n",
    "      }\n",
    "    }\n",
    "    co = edgelist[,1]!=edgelist[,2]\n",
    "    edgelist = matrix(edgelist[co,],ncol=2) #update edgelist\n",
    "    top2 = dim(edgelist)[1]\n",
    "    inds2 = 1:top2\n",
    "    top=top-1 #one vertice is removed by the contraction\n",
    "  }\n",
    "  return(top2)\n",
    "}\n",
    "\n",
    "kargers_mincut<-function(graph,elist_in,ep=1){\n",
    "  n = length(V(graph))\n",
    "  howmany = 1\n",
    "  #howmany = n^2*log(n)*ep #for boosting\n",
    "  mincut = Inf\n",
    "  elist = elist_in\n",
    "  \n",
    "  for(i in 1:howmany){\n",
    "    contender = edgelist_mincut(elist,n)\n",
    "    if(contender<mincut & contender !=0){\n",
    "      mincut = contender\n",
    "    }\n",
    "  }\n",
    "  return(mincut)\n",
    "}"
   ]
  },
  {
   "cell_type": "markdown",
   "id": "dfe71f01",
   "metadata": {},
   "source": [
    "### 3. Karger Stein Algorithm"
   ]
  },
  {
   "cell_type": "code",
   "execution_count": 10,
   "id": "546e4fb7",
   "metadata": {},
   "outputs": [],
   "source": [
    "squish <- function(elist,nv,t){\n",
    "  edgelist = elist\n",
    "  top = nv #number of vertices\n",
    "  inds = 1:top \n",
    "  top2 = dim(edgelist)[1] #number of edges\n",
    "  inds2 = 1:top2\n",
    "  \n",
    "  while(top>t){\n",
    "    temp_inds2 = sample(inds2,1) #select an edge randomly\n",
    "    pick = edgelist[temp_inds2,1]\n",
    "    pick2 = edgelist[temp_inds2,2]\n",
    "    \n",
    "    for(j in 1:top2){ #implment contraction\n",
    "      if(edgelist[j,1]==pick2){\n",
    "        edgelist[j,1]<-pick\n",
    "      }else if(edgelist[j,2]==pick2){\n",
    "        edgelist[j,2]<-pick\n",
    "      }else{\n",
    "        next\n",
    "      }\n",
    "    }\n",
    "    co = edgelist[,1]!=edgelist[,2]\n",
    "    edgelist = matrix(edgelist[co,],ncol=2) #update edgelist\n",
    "    top2 = dim(edgelist)[1]\n",
    "    inds2 = 1:top2\n",
    "    top=top-1 #one vertice is removed by the contraction\n",
    "  }\n",
    "  \n",
    "  p = list(edgelist,top)\n",
    "  return(p)\n",
    "}\n",
    "\n",
    "karger_stein_mincut<-function(edgelist,nvertices){\n",
    "  big = nvertices\n",
    "  if(big<=6){ #spare constraint not to fall in infinite loop.\n",
    "    mincut = edgelist_mincut(edgelist,big)\n",
    "    return(mincut)\n",
    "  }else{\n",
    "    t = 1+big/sqrt(2)\n",
    "    in1 = edgelist\n",
    "    in2 = edgelist\n",
    "    p1 = squish(in1,big,t)\n",
    "    p2 = squish(in2,big,t)\n",
    "    \n",
    "    elist1 = p1[[1]]\n",
    "    nvertices1 = p1[[2]]\n",
    "    elist2 = p2[[1]]\n",
    "    nvertices2 = p2[[2]]\n",
    "    \n",
    "    return(min(karger_stein_mincut(elist1,nvertices1),karger_stein_mincut(elist2,nvertices2)))\n",
    "  }\n",
    "}\n",
    "\n",
    "ks_mincut<-function(graph,elist_in){\n",
    "  n = length(V(graph))\n",
    "  top = 1\n",
    "  #top = (log(n))^2 #for boosting\n",
    "  mincut = Inf\n",
    "  for(i in 1:top){\n",
    "    graph_elist = elist_in\n",
    "    maybe = karger_stein_mincut(graph_elist, n)\n",
    "    if(maybe<mincut & maybe !=0){\n",
    "      mincut = maybe\n",
    "    }\n",
    "  }\n",
    "  return(mincut)\n",
    "}"
   ]
  },
  {
   "cell_type": "markdown",
   "id": "3afe0c58",
   "metadata": {},
   "source": [
    "### 4. Comparison"
   ]
  },
  {
   "cell_type": "code",
   "execution_count": 12,
   "id": "1b3541db",
   "metadata": {},
   "outputs": [
    {
     "data": {
      "text/html": [
       "2"
      ],
      "text/latex": [
       "2"
      ],
      "text/markdown": [
       "2"
      ],
      "text/plain": [
       "[1] 2"
      ]
     },
     "metadata": {},
     "output_type": "display_data"
    },
    {
     "name": "stdout",
     "output_type": "stream",
     "text": [
      "Time difference of 0.01898885 secs\n"
     ]
    }
   ],
   "source": [
    "start=Sys.time()\n",
    "kargers_mincut(karate_g,get.edgelist(karate_g)) #kargers algorithm\n",
    "print(Sys.time()-start)\n",
    "\n",
    "# note that this is more reasonable solution compared to kargers_mincut using node based contraction"
   ]
  },
  {
   "cell_type": "code",
   "execution_count": 13,
   "id": "9c016202",
   "metadata": {},
   "outputs": [
    {
     "data": {
      "text/html": [
       "1"
      ],
      "text/latex": [
       "1"
      ],
      "text/markdown": [
       "1"
      ],
      "text/plain": [
       "[1] 1"
      ]
     },
     "metadata": {},
     "output_type": "display_data"
    },
    {
     "name": "stdout",
     "output_type": "stream",
     "text": [
      "Time difference of 0.05497003 secs\n"
     ]
    }
   ],
   "source": [
    "start=Sys.time()\n",
    "ks_mincut(karate_g,get.edgelist(karate_g)) #karger stein algorithm\n",
    "print(Sys.time()-start)"
   ]
  },
  {
   "cell_type": "markdown",
   "id": "271629b8",
   "metadata": {},
   "source": [
    "### 5. Boosting to make the probability of success more than 1-1/n (=0.97)."
   ]
  },
  {
   "cell_type": "code",
   "execution_count": 19,
   "id": "27d2c4e8",
   "metadata": {},
   "outputs": [
    {
     "data": {
      "text/html": [
       "1"
      ],
      "text/latex": [
       "1"
      ],
      "text/markdown": [
       "1"
      ],
      "text/plain": [
       "[1] 1"
      ]
     },
     "metadata": {},
     "output_type": "display_data"
    },
    {
     "name": "stdout",
     "output_type": "stream",
     "text": [
      "Time difference of 2.988287 secs\n"
     ]
    }
   ],
   "source": [
    "edgelist_mincut<-function(elist,nv){\n",
    "  edgelist = elist\n",
    "  top = nv #number of vertices\n",
    "  inds = 1:top \n",
    "  top2 = dim(edgelist)[1] #number of edges\n",
    "  inds2 = 1:top2\n",
    "  \n",
    "  \n",
    "  while(top>2){\n",
    "    temp_inds2 = sample(inds2,1) #select an edge randomly\n",
    "    pick = edgelist[temp_inds2,1]\n",
    "    pick2 = edgelist[temp_inds2,2]\n",
    "    \n",
    "    for(j in 1:top2){ #implement contraction\n",
    "      if(edgelist[j,1]==pick2){\n",
    "        edgelist[j,1]<-pick\n",
    "      }else if(edgelist[j,2]==pick2){\n",
    "        edgelist[j,2]<-pick\n",
    "      }else{\n",
    "        next\n",
    "      }\n",
    "    }\n",
    "    co = edgelist[,1]!=edgelist[,2]\n",
    "    edgelist = matrix(edgelist[co,],ncol=2) #update edgelist\n",
    "    top2 = dim(edgelist)[1]\n",
    "    inds2 = 1:top2\n",
    "    top=top-1 #one vertice is removed by the contraction\n",
    "  }\n",
    "  return(top2)\n",
    "}\n",
    "\n",
    "kargers_mincut<-function(graph,elist_in,ep=1){\n",
    "  n = length(V(graph))\n",
    "  #howmany = 1\n",
    "  howmany = n^2*log(n)*ep #for boosting\n",
    "  mincut = Inf\n",
    "  elist = elist_in\n",
    "  \n",
    "  for(i in 1:howmany){\n",
    "    contender = edgelist_mincut(elist,n)\n",
    "    if(contender<mincut & contender !=0){\n",
    "      mincut = contender\n",
    "    }\n",
    "  }\n",
    "  return(mincut)\n",
    "}\n",
    "\n",
    "start=Sys.time()\n",
    "kargers_mincut(karate_g,get.edgelist(karate_g)) #kargers method(boosting) \n",
    "print(Sys.time()-start)"
   ]
  },
  {
   "cell_type": "code",
   "execution_count": 17,
   "id": "114ecf60",
   "metadata": {},
   "outputs": [
    {
     "data": {
      "text/html": [
       "1"
      ],
      "text/latex": [
       "1"
      ],
      "text/markdown": [
       "1"
      ],
      "text/plain": [
       "[1] 1"
      ]
     },
     "metadata": {},
     "output_type": "display_data"
    },
    {
     "name": "stdout",
     "output_type": "stream",
     "text": [
      "Time difference of 0.177896 secs\n"
     ]
    }
   ],
   "source": [
    "squish <- function(elist,nv,t){\n",
    "  edgelist = elist\n",
    "  top = nv #number of vertices\n",
    "  inds = 1:top \n",
    "  top2 = dim(edgelist)[1] #number of edges\n",
    "  inds2 = 1:top2\n",
    "  \n",
    "  while(top>t){\n",
    "    temp_inds2 = sample(inds2,1) #select an edge randomly\n",
    "    pick = edgelist[temp_inds2,1]\n",
    "    pick2 = edgelist[temp_inds2,2]\n",
    "    \n",
    "    for(j in 1:top2){ #implment contraction\n",
    "      if(edgelist[j,1]==pick2){\n",
    "        edgelist[j,1]<-pick\n",
    "      }else if(edgelist[j,2]==pick2){\n",
    "        edgelist[j,2]<-pick\n",
    "      }else{\n",
    "        next\n",
    "      }\n",
    "    }\n",
    "    co = edgelist[,1]!=edgelist[,2]\n",
    "    edgelist = matrix(edgelist[co,],ncol=2) #update edgelist\n",
    "    top2 = dim(edgelist)[1]\n",
    "    inds2 = 1:top2\n",
    "    top=top-1 #one vertice is removed by the contraction\n",
    "  }\n",
    "  \n",
    "  p = list(edgelist,top)\n",
    "  return(p)\n",
    "}\n",
    "\n",
    "karger_stein_mincut<-function(edgelist,nvertices){\n",
    "  big = nvertices\n",
    "  if(big<=6){ #spare constraint not to fall in infinite loop.\n",
    "    mincut = edgelist_mincut(edgelist,big)\n",
    "    return(mincut)\n",
    "  }else{\n",
    "    t = 1+big/sqrt(2)\n",
    "    in1 = edgelist\n",
    "    in2 = edgelist\n",
    "    p1 = squish(in1,big,t)\n",
    "    p2 = squish(in2,big,t)\n",
    "    \n",
    "    elist1 = p1[[1]]\n",
    "    nvertices1 = p1[[2]]\n",
    "    elist2 = p2[[1]]\n",
    "    nvertices2 = p2[[2]]\n",
    "    \n",
    "    return(min(karger_stein_mincut(elist1,nvertices1),karger_stein_mincut(elist2,nvertices2)))\n",
    "  }\n",
    "}\n",
    "\n",
    "ks_mincut<-function(graph,elist_in){\n",
    "  n = length(V(graph))\n",
    "  #top = 1\n",
    "  top = (log(n))^2 #for boosting\n",
    "  mincut = Inf\n",
    "  for(i in 1:top){\n",
    "    graph_elist = elist_in\n",
    "    maybe = karger_stein_mincut(graph_elist, n)\n",
    "    if(maybe<mincut & maybe !=0){\n",
    "      mincut = maybe\n",
    "    }\n",
    "  }\n",
    "  return(mincut)\n",
    "}\n",
    "start=Sys.time()\n",
    "ks_mincut(karate_g,get.edgelist(karate_g)) #karger stein method(boosting) \n",
    "print(Sys.time()-start)"
   ]
  }
 ],
 "metadata": {
  "kernelspec": {
   "display_name": "R",
   "language": "R",
   "name": "ir"
  },
  "language_info": {
   "codemirror_mode": "r",
   "file_extension": ".r",
   "mimetype": "text/x-r-source",
   "name": "R",
   "pygments_lexer": "r",
   "version": "3.6.1"
  }
 },
 "nbformat": 4,
 "nbformat_minor": 5
}
